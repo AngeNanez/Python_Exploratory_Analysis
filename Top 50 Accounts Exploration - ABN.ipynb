{
 "cells": [
  {
   "cell_type": "markdown",
   "metadata": {},
   "source": [
    "# Top 50 Social Media accounts with most subcribers "
   ]
  },
  {
   "cell_type": "markdown",
   "metadata": {},
   "source": [
    "I would like to analyze what features successful social media accounts have in common. The accounts in the data set come from a wide range of unspecified social media platforms. This analysis reviews language spoken, country of origin, and categories. "
   ]
  },
  {
   "cell_type": "code",
   "execution_count": 1,
   "metadata": {},
   "outputs": [],
   "source": [
    "#Start importing packages\n",
    "\n",
    "import pandas as pd\n",
    "import numpy as np\n",
    "import matplotlib as plt\n",
    "\n",
    "%matplotlib inline"
   ]
  },
  {
   "cell_type": "code",
   "execution_count": 2,
   "metadata": {},
   "outputs": [],
   "source": [
    "top = pd.read_excel('./MostSubscribers.xlsx')\n",
    "#got it from https://www.kaggle.com/kkhandekar/social-media-platform-with-most-subscribers"
   ]
  },
  {
   "cell_type": "code",
   "execution_count": 3,
   "metadata": {},
   "outputs": [
    {
     "data": {
      "text/plain": [
       "(50, 6)"
      ]
     },
     "execution_count": 3,
     "metadata": {},
     "output_type": "execute_result"
    }
   ],
   "source": [
    "top.shape"
   ]
  },
  {
   "cell_type": "code",
   "execution_count": 4,
   "metadata": {},
   "outputs": [
    {
     "data": {
      "text/plain": [
       "Index(['Rank', 'Channel', 'Subscribers(millions)', 'Language', 'Category',\n",
       "       'Country'],\n",
       "      dtype='object')"
      ]
     },
     "execution_count": 4,
     "metadata": {},
     "output_type": "execute_result"
    }
   ],
   "source": [
    "top.columns"
   ]
  },
  {
   "cell_type": "code",
   "execution_count": 5,
   "metadata": {},
   "outputs": [
    {
     "name": "stdout",
     "output_type": "stream",
     "text": [
      "<class 'pandas.core.frame.DataFrame'>\n",
      "RangeIndex: 50 entries, 0 to 49\n",
      "Data columns (total 6 columns):\n",
      " #   Column                 Non-Null Count  Dtype  \n",
      "---  ------                 --------------  -----  \n",
      " 0   Rank                   50 non-null     int64  \n",
      " 1   Channel                50 non-null     object \n",
      " 2   Subscribers(millions)  50 non-null     float64\n",
      " 3   Language               50 non-null     object \n",
      " 4   Category               50 non-null     object \n",
      " 5   Country                50 non-null     object \n",
      "dtypes: float64(1), int64(1), object(4)\n",
      "memory usage: 2.5+ KB\n"
     ]
    }
   ],
   "source": [
    "top.info()"
   ]
  },
  {
   "cell_type": "code",
   "execution_count": 6,
   "metadata": {
    "scrolled": true
   },
   "outputs": [
    {
     "data": {
      "text/plain": [
       "25.5"
      ]
     },
     "execution_count": 6,
     "metadata": {},
     "output_type": "execute_result"
    }
   ],
   "source": [
    "top.Rank.mean()"
   ]
  },
  {
   "cell_type": "code",
   "execution_count": 7,
   "metadata": {},
   "outputs": [],
   "source": [
    "top.drop(['Rank'], axis=1, inplace=True)"
   ]
  },
  {
   "cell_type": "code",
   "execution_count": 110,
   "metadata": {},
   "outputs": [
    {
     "data": {
      "text/html": [
       "<div>\n",
       "<style scoped>\n",
       "    .dataframe tbody tr th:only-of-type {\n",
       "        vertical-align: middle;\n",
       "    }\n",
       "\n",
       "    .dataframe tbody tr th {\n",
       "        vertical-align: top;\n",
       "    }\n",
       "\n",
       "    .dataframe thead th {\n",
       "        text-align: right;\n",
       "    }\n",
       "</style>\n",
       "<table border=\"1\" class=\"dataframe\">\n",
       "  <thead>\n",
       "    <tr style=\"text-align: right;\">\n",
       "      <th></th>\n",
       "      <th>Channel</th>\n",
       "      <th>Subscribers(millions)</th>\n",
       "      <th>Language</th>\n",
       "      <th>Category</th>\n",
       "      <th>Country</th>\n",
       "    </tr>\n",
       "  </thead>\n",
       "  <tbody>\n",
       "    <tr>\n",
       "      <th>0</th>\n",
       "      <td>T-Series</td>\n",
       "      <td>193.0</td>\n",
       "      <td>Hindi</td>\n",
       "      <td>Music</td>\n",
       "      <td>India</td>\n",
       "    </tr>\n",
       "    <tr>\n",
       "      <th>1</th>\n",
       "      <td>Cocomelon - Nursery Rhymes</td>\n",
       "      <td>118.0</td>\n",
       "      <td>English</td>\n",
       "      <td>Education</td>\n",
       "      <td>United States</td>\n",
       "    </tr>\n",
       "    <tr>\n",
       "      <th>2</th>\n",
       "      <td>SET India</td>\n",
       "      <td>115.0</td>\n",
       "      <td>Hindi</td>\n",
       "      <td>Entertainment</td>\n",
       "      <td>India</td>\n",
       "    </tr>\n",
       "    <tr>\n",
       "      <th>3</th>\n",
       "      <td>PewDiePie</td>\n",
       "      <td>110.0</td>\n",
       "      <td>English</td>\n",
       "      <td>Gaming</td>\n",
       "      <td>Sweden</td>\n",
       "    </tr>\n",
       "    <tr>\n",
       "      <th>4</th>\n",
       "      <td>Kids Diana Show</td>\n",
       "      <td>83.5</td>\n",
       "      <td>English</td>\n",
       "      <td>Film</td>\n",
       "      <td>Ukraine</td>\n",
       "    </tr>\n",
       "    <tr>\n",
       "      <th>5</th>\n",
       "      <td>WWE</td>\n",
       "      <td>81.8</td>\n",
       "      <td>English</td>\n",
       "      <td>Sports</td>\n",
       "      <td>United States</td>\n",
       "    </tr>\n",
       "    <tr>\n",
       "      <th>6</th>\n",
       "      <td>Zee Music Company</td>\n",
       "      <td>77.1</td>\n",
       "      <td>Hindi</td>\n",
       "      <td>Music</td>\n",
       "      <td>India</td>\n",
       "    </tr>\n",
       "    <tr>\n",
       "      <th>7</th>\n",
       "      <td>Like Nastya</td>\n",
       "      <td>76.8</td>\n",
       "      <td>Russian</td>\n",
       "      <td>Entertainment</td>\n",
       "      <td>Russia</td>\n",
       "    </tr>\n",
       "    <tr>\n",
       "      <th>8</th>\n",
       "      <td>5-Minute Crafts</td>\n",
       "      <td>73.7</td>\n",
       "      <td>English</td>\n",
       "      <td>How-to</td>\n",
       "      <td>Cyprus</td>\n",
       "    </tr>\n",
       "    <tr>\n",
       "      <th>9</th>\n",
       "      <td>Vlad and Niki</td>\n",
       "      <td>72.3</td>\n",
       "      <td>English</td>\n",
       "      <td>Entertainment</td>\n",
       "      <td>Russia</td>\n",
       "    </tr>\n",
       "  </tbody>\n",
       "</table>\n",
       "</div>"
      ],
      "text/plain": [
       "                      Channel  Subscribers(millions) Language       Category  \\\n",
       "0                    T-Series                  193.0    Hindi          Music   \n",
       "1  Cocomelon - Nursery Rhymes                  118.0  English      Education   \n",
       "2                   SET India                  115.0    Hindi  Entertainment   \n",
       "3                   PewDiePie                  110.0  English         Gaming   \n",
       "4             Kids Diana Show                   83.5  English           Film   \n",
       "5                         WWE                   81.8  English         Sports   \n",
       "6           Zee Music Company                   77.1    Hindi          Music   \n",
       "7                 Like Nastya                   76.8  Russian  Entertainment   \n",
       "8             5-Minute Crafts                   73.7  English         How-to   \n",
       "9               Vlad and Niki                   72.3  English  Entertainment   \n",
       "\n",
       "          Country  \n",
       "0           India  \n",
       "1   United States  \n",
       "2           India  \n",
       "3          Sweden  \n",
       "4         Ukraine  \n",
       "5   United States  \n",
       "6           India  \n",
       "7          Russia  \n",
       "8          Cyprus  \n",
       "9          Russia  "
      ]
     },
     "execution_count": 110,
     "metadata": {},
     "output_type": "execute_result"
    }
   ],
   "source": [
    "top.head(10)"
   ]
  },
  {
   "cell_type": "code",
   "execution_count": 9,
   "metadata": {},
   "outputs": [
    {
     "data": {
      "text/plain": [
       "50"
      ]
     },
     "execution_count": 9,
     "metadata": {},
     "output_type": "execute_result"
    }
   ],
   "source": [
    "top['Channel'].nunique()"
   ]
  },
  {
   "cell_type": "code",
   "execution_count": 10,
   "metadata": {},
   "outputs": [
    {
     "data": {
      "text/plain": [
       "9"
      ]
     },
     "execution_count": 10,
     "metadata": {},
     "output_type": "execute_result"
    }
   ],
   "source": [
    "top['Category'].nunique()"
   ]
  },
  {
   "cell_type": "code",
   "execution_count": 11,
   "metadata": {
    "scrolled": true
   },
   "outputs": [
    {
     "data": {
      "text/plain": [
       "7"
      ]
     },
     "execution_count": 11,
     "metadata": {},
     "output_type": "execute_result"
    }
   ],
   "source": [
    "top['Language'].nunique()"
   ]
  },
  {
   "cell_type": "code",
   "execution_count": 12,
   "metadata": {},
   "outputs": [
    {
     "data": {
      "text/plain": [
       "2996.0"
      ]
     },
     "execution_count": 12,
     "metadata": {},
     "output_type": "execute_result"
    }
   ],
   "source": [
    "top['Subscribers(millions)'].sum().round()"
   ]
  },
  {
   "cell_type": "code",
   "execution_count": 13,
   "metadata": {
    "scrolled": true
   },
   "outputs": [
    {
     "data": {
      "text/html": [
       "<div>\n",
       "<style scoped>\n",
       "    .dataframe tbody tr th:only-of-type {\n",
       "        vertical-align: middle;\n",
       "    }\n",
       "\n",
       "    .dataframe tbody tr th {\n",
       "        vertical-align: top;\n",
       "    }\n",
       "\n",
       "    .dataframe thead th {\n",
       "        text-align: right;\n",
       "    }\n",
       "</style>\n",
       "<table border=\"1\" class=\"dataframe\">\n",
       "  <thead>\n",
       "    <tr style=\"text-align: right;\">\n",
       "      <th></th>\n",
       "      <th>Subscribers(millions)</th>\n",
       "    </tr>\n",
       "  </thead>\n",
       "  <tbody>\n",
       "    <tr>\n",
       "      <th>count</th>\n",
       "      <td>50.000000</td>\n",
       "    </tr>\n",
       "    <tr>\n",
       "      <th>mean</th>\n",
       "      <td>59.918000</td>\n",
       "    </tr>\n",
       "    <tr>\n",
       "      <th>std</th>\n",
       "      <td>26.828097</td>\n",
       "    </tr>\n",
       "    <tr>\n",
       "      <th>min</th>\n",
       "      <td>40.000000</td>\n",
       "    </tr>\n",
       "    <tr>\n",
       "      <th>25%</th>\n",
       "      <td>43.875000</td>\n",
       "    </tr>\n",
       "    <tr>\n",
       "      <th>50%</th>\n",
       "      <td>50.600000</td>\n",
       "    </tr>\n",
       "    <tr>\n",
       "      <th>75%</th>\n",
       "      <td>65.175000</td>\n",
       "    </tr>\n",
       "    <tr>\n",
       "      <th>max</th>\n",
       "      <td>193.000000</td>\n",
       "    </tr>\n",
       "  </tbody>\n",
       "</table>\n",
       "</div>"
      ],
      "text/plain": [
       "       Subscribers(millions)\n",
       "count              50.000000\n",
       "mean               59.918000\n",
       "std                26.828097\n",
       "min                40.000000\n",
       "25%                43.875000\n",
       "50%                50.600000\n",
       "75%                65.175000\n",
       "max               193.000000"
      ]
     },
     "execution_count": 13,
     "metadata": {},
     "output_type": "execute_result"
    }
   ],
   "source": [
    "top.describe()"
   ]
  },
  {
   "cell_type": "markdown",
   "metadata": {},
   "source": [
    "## Language"
   ]
  },
  {
   "cell_type": "code",
   "execution_count": 14,
   "metadata": {
    "scrolled": true
   },
   "outputs": [
    {
     "data": {
      "text/plain": [
       "English       21\n",
       "Hindi         14\n",
       "Spanish        6\n",
       "Portuguese     4\n",
       "Korean         3\n",
       "Bhojpuri       1\n",
       "Russian        1\n",
       "Name: Language, dtype: int64"
      ]
     },
     "execution_count": 14,
     "metadata": {},
     "output_type": "execute_result"
    }
   ],
   "source": [
    "top['Language'].value_counts()"
   ]
  },
  {
   "cell_type": "code",
   "execution_count": 15,
   "metadata": {
    "scrolled": false
   },
   "outputs": [
    {
     "data": {
      "image/png": "[encoded data removed]",
      "text/plain": [
       "<Figure size 432x288 with 1 Axes>"
      ]
     },
     "metadata": {},
     "output_type": "display_data"
    }
   ],
   "source": [
    "top['Language'].value_counts().plot(kind='pie', autopct='%1.f%%');"
   ]
  },
  {
   "cell_type": "code",
   "execution_count": 16,
   "metadata": {
    "scrolled": true
   },
   "outputs": [
    {
     "data": {
      "image/png": "[encoded data removed]",
      "text/plain": [
       "<Figure size 432x288 with 1 Axes>"
      ]
     },
     "metadata": {
      "needs_background": "light"
     },
     "output_type": "display_data"
    }
   ],
   "source": [
    "top.groupby(['Language']).sum().sort_values('Subscribers(millions)', ascending = False).plot(kind = 'bar');\n",
    "\n",
    "\n",
    "## Add annotation to bars\n"
   ]
  },
  {
   "cell_type": "markdown",
   "metadata": {},
   "source": [
    "There are 7 languages spoken among the most successful accounts. \n",
    "21 accounts use english, 14 use Hindi, and 6 use Spanish. They represent 82% of all subscribers"
   ]
  },
  {
   "cell_type": "markdown",
   "metadata": {},
   "source": [
    "## Country"
   ]
  },
  {
   "cell_type": "code",
   "execution_count": 17,
   "metadata": {},
   "outputs": [
    {
     "data": {
      "text/plain": [
       "15"
      ]
     },
     "execution_count": 17,
     "metadata": {},
     "output_type": "execute_result"
    }
   ],
   "source": [
    "top['Country'].nunique()"
   ]
  },
  {
   "cell_type": "code",
   "execution_count": 18,
   "metadata": {
    "scrolled": true
   },
   "outputs": [
    {
     "data": {
      "image/png": "[encoded data removed]",
      "text/plain": [
       "<Figure size 432x288 with 1 Axes>"
      ]
     },
     "metadata": {
      "needs_background": "light"
     },
     "output_type": "display_data"
    }
   ],
   "source": [
    "top['Country'].value_counts().plot(kind = 'barh', color=\"lightblue\");"
   ]
  },
  {
   "cell_type": "code",
   "execution_count": 19,
   "metadata": {
    "scrolled": true
   },
   "outputs": [],
   "source": [
    "country_lan = top.groupby(['Country']).sum()"
   ]
  },
  {
   "cell_type": "code",
   "execution_count": 20,
   "metadata": {},
   "outputs": [
    {
     "data": {
      "text/html": [
       "<div>\n",
       "<style scoped>\n",
       "    .dataframe tbody tr th:only-of-type {\n",
       "        vertical-align: middle;\n",
       "    }\n",
       "\n",
       "    .dataframe tbody tr th {\n",
       "        vertical-align: top;\n",
       "    }\n",
       "\n",
       "    .dataframe thead th {\n",
       "        text-align: right;\n",
       "    }\n",
       "</style>\n",
       "<table border=\"1\" class=\"dataframe\">\n",
       "  <thead>\n",
       "    <tr style=\"text-align: right;\">\n",
       "      <th></th>\n",
       "      <th>Subscribers(millions)</th>\n",
       "    </tr>\n",
       "    <tr>\n",
       "      <th>Country</th>\n",
       "      <th></th>\n",
       "    </tr>\n",
       "  </thead>\n",
       "  <tbody>\n",
       "    <tr>\n",
       "      <th>India</th>\n",
       "      <td>985.6</td>\n",
       "    </tr>\n",
       "    <tr>\n",
       "      <th>United States</th>\n",
       "      <td>706.6</td>\n",
       "    </tr>\n",
       "    <tr>\n",
       "      <th>South Korea</th>\n",
       "      <td>238.9</td>\n",
       "    </tr>\n",
       "    <tr>\n",
       "      <th>Brazil</th>\n",
       "      <td>192.1</td>\n",
       "    </tr>\n",
       "    <tr>\n",
       "      <th>Russia</th>\n",
       "      <td>149.1</td>\n",
       "    </tr>\n",
       "    <tr>\n",
       "      <th>Cyprus</th>\n",
       "      <td>115.6</td>\n",
       "    </tr>\n",
       "    <tr>\n",
       "      <th>Sweden</th>\n",
       "      <td>110.0</td>\n",
       "    </tr>\n",
       "    <tr>\n",
       "      <th>United Kingdom</th>\n",
       "      <td>89.2</td>\n",
       "    </tr>\n",
       "    <tr>\n",
       "      <th>Chile</th>\n",
       "      <td>86.9</td>\n",
       "    </tr>\n",
       "    <tr>\n",
       "      <th>Ukraine</th>\n",
       "      <td>83.5</td>\n",
       "    </tr>\n",
       "    <tr>\n",
       "      <th>Canada</th>\n",
       "      <td>65.3</td>\n",
       "    </tr>\n",
       "    <tr>\n",
       "      <th>Argentina</th>\n",
       "      <td>45.2</td>\n",
       "    </tr>\n",
       "    <tr>\n",
       "      <th>Mexico</th>\n",
       "      <td>44.8</td>\n",
       "    </tr>\n",
       "    <tr>\n",
       "      <th>El Salvador</th>\n",
       "      <td>43.1</td>\n",
       "    </tr>\n",
       "    <tr>\n",
       "      <th>Spain</th>\n",
       "      <td>40.0</td>\n",
       "    </tr>\n",
       "  </tbody>\n",
       "</table>\n",
       "</div>"
      ],
      "text/plain": [
       "                 Subscribers(millions)\n",
       "Country                               \n",
       " India                           985.6\n",
       " United States                   706.6\n",
       " South Korea                     238.9\n",
       " Brazil                          192.1\n",
       " Russia                          149.1\n",
       " Cyprus                          115.6\n",
       " Sweden                          110.0\n",
       " United Kingdom                   89.2\n",
       " Chile                            86.9\n",
       " Ukraine                          83.5\n",
       " Canada                           65.3\n",
       " Argentina                        45.2\n",
       " Mexico                           44.8\n",
       " El Salvador                      43.1\n",
       " Spain                            40.0"
      ]
     },
     "execution_count": 20,
     "metadata": {},
     "output_type": "execute_result"
    }
   ],
   "source": [
    "country_lan.sort_values(by='Subscribers(millions)', ascending = False)"
   ]
  },
  {
   "cell_type": "code",
   "execution_count": 21,
   "metadata": {},
   "outputs": [
    {
     "data": {
      "image/png": "[encoded data removed]",
      "text/plain": [
       "<Figure size 432x288 with 1 Axes>"
      ]
     },
     "metadata": {
      "needs_background": "light"
     },
     "output_type": "display_data"
    }
   ],
   "source": [
    "country_lan.sort_values(by='Subscribers(millions)', ascending = False).plot(kind='barh');"
   ]
  },
  {
   "cell_type": "markdown",
   "metadata": {},
   "source": [
    "All 50 account come from 15 countries. Only 2 countries have 12 or more acounts, about 50% of accounts come from one country."
   ]
  },
  {
   "cell_type": "markdown",
   "metadata": {},
   "source": [
    "## Subcribers"
   ]
  },
  {
   "cell_type": "code",
   "execution_count": 22,
   "metadata": {},
   "outputs": [
    {
     "data": {
      "text/plain": [
       "59.91800000000003"
      ]
     },
     "execution_count": 22,
     "metadata": {},
     "output_type": "execute_result"
    }
   ],
   "source": [
    "top['Subscribers(millions)'].mean()"
   ]
  },
  {
   "cell_type": "code",
   "execution_count": 23,
   "metadata": {},
   "outputs": [
    {
     "data": {
      "text/plain": [
       "26.828097439902397"
      ]
     },
     "execution_count": 23,
     "metadata": {},
     "output_type": "execute_result"
    }
   ],
   "source": [
    "top['Subscribers(millions)'].std()"
   ]
  },
  {
   "cell_type": "code",
   "execution_count": 24,
   "metadata": {},
   "outputs": [
    {
     "data": {
      "image/png": "[encoded data removed]",
      "text/plain": [
       "<Figure size 432x288 with 1 Axes>"
      ]
     },
     "metadata": {
      "needs_background": "light"
     },
     "output_type": "display_data"
    }
   ],
   "source": [
    "#y.hist(y, bins = 4)\n",
    "top.hist('Subscribers(millions)', bins = 20, color = 'lightblue', rwidth= 1);"
   ]
  },
  {
   "cell_type": "markdown",
   "metadata": {},
   "source": [
    "On average each account has 59.9 million subscribers. There are over 20 accounts on the 40million subscribers side. The distribution of millions of subcribers is very spread out, with over 2std higher, which tells us they may be outliers. "
   ]
  },
  {
   "cell_type": "markdown",
   "metadata": {},
   "source": [
    "## Categories"
   ]
  },
  {
   "cell_type": "code",
   "execution_count": 80,
   "metadata": {
    "scrolled": true
   },
   "outputs": [
    {
     "data": {
      "image/png": "[encoded data removed]",
      "text/plain": [
       "<Figure size 432x288 with 1 Axes>"
      ]
     },
     "metadata": {
      "needs_background": "light"
     },
     "output_type": "display_data"
    }
   ],
   "source": [
    "top['Category'].value_counts().plot(kind='bar', rot=90, color='purple', ylabel='Number of Accounts', title='Number Accounts per Category');"
   ]
  },
  {
   "cell_type": "code",
   "execution_count": 107,
   "metadata": {},
   "outputs": [
    {
     "data": {
      "text/plain": [
       "Category       Country        \n",
       "Music           India             551.2\n",
       "                United States     326.1\n",
       "Entertainment   India             276.5\n",
       "Music           South Korea       186.9\n",
       "Entertainment   Russia            149.1\n",
       "Sports          United States     138.5\n",
       "Education       United States     118.0\n",
       "Gaming          Sweden            110.0\n",
       "Music           United Kingdom     89.2\n",
       "Entertainment   Chile              86.9\n",
       "                Brazil             84.3\n",
       "Film            Ukraine            83.5\n",
       "How-to          Cyprus             73.7\n",
       "Entertainment   United States      69.8\n",
       "Music           Canada             65.3\n",
       "                Brazil             64.8\n",
       "Film            India              58.8\n",
       "                United States      54.2\n",
       "Education       South Korea        52.0\n",
       "                India              51.5\n",
       "News            India              47.6\n",
       "Music           Argentina          45.2\n",
       "Entertainment   Mexico             44.8\n",
       "Gaming          El Salvador        43.1\n",
       "Comedy          Brazil             43.0\n",
       "Entertainment   Cyprus             41.9\n",
       "                Spain              40.0\n",
       "Name: Subscribers(millions), dtype: float64"
      ]
     },
     "execution_count": 107,
     "metadata": {},
     "output_type": "execute_result"
    }
   ],
   "source": [
    "CatCountry = top.groupby(['Category','Country'])['Subscribers(millions)'].sum().sort_values(ascending = False)\n",
    "CatCountry\n"
   ]
  },
  {
   "cell_type": "code",
   "execution_count": 26,
   "metadata": {},
   "outputs": [
    {
     "data": {
      "image/png": "[encoded data removed]",
      "text/plain": [
       "<Figure size 720x432 with 1 Axes>"
      ]
     },
     "metadata": {
      "needs_background": "light"
     },
     "output_type": "display_data"
    }
   ],
   "source": [
    "top.groupby(['Category','Country'])['Subscribers(millions)'].sum().sort_values(ascending = False).plot.bar(figsize = (10,6), ylabel='Subscribers in Millions', title='Sum of Subcribers per Category and Country');\n"
   ]
  },
  {
   "cell_type": "code",
   "execution_count": 32,
   "metadata": {
    "scrolled": true
   },
   "outputs": [
    {
     "data": {
      "text/html": [
       "<div>\n",
       "<style scoped>\n",
       "    .dataframe tbody tr th:only-of-type {\n",
       "        vertical-align: middle;\n",
       "    }\n",
       "\n",
       "    .dataframe tbody tr th {\n",
       "        vertical-align: top;\n",
       "    }\n",
       "\n",
       "    .dataframe thead th {\n",
       "        text-align: right;\n",
       "    }\n",
       "</style>\n",
       "<table border=\"1\" class=\"dataframe\">\n",
       "  <thead>\n",
       "    <tr style=\"text-align: right;\">\n",
       "      <th></th>\n",
       "      <th>Subscribers(millions)</th>\n",
       "    </tr>\n",
       "    <tr>\n",
       "      <th>Category</th>\n",
       "      <th></th>\n",
       "    </tr>\n",
       "  </thead>\n",
       "  <tbody>\n",
       "    <tr>\n",
       "      <th>Gaming</th>\n",
       "      <td>77.0</td>\n",
       "    </tr>\n",
       "    <tr>\n",
       "      <th>Education</th>\n",
       "      <td>74.0</td>\n",
       "    </tr>\n",
       "    <tr>\n",
       "      <th>How-to</th>\n",
       "      <td>74.0</td>\n",
       "    </tr>\n",
       "    <tr>\n",
       "      <th>Sports</th>\n",
       "      <td>69.0</td>\n",
       "    </tr>\n",
       "    <tr>\n",
       "      <th>Film</th>\n",
       "      <td>66.0</td>\n",
       "    </tr>\n",
       "    <tr>\n",
       "      <th>Music</th>\n",
       "      <td>58.0</td>\n",
       "    </tr>\n",
       "    <tr>\n",
       "      <th>Entertainment</th>\n",
       "      <td>57.0</td>\n",
       "    </tr>\n",
       "    <tr>\n",
       "      <th>News</th>\n",
       "      <td>48.0</td>\n",
       "    </tr>\n",
       "    <tr>\n",
       "      <th>Comedy</th>\n",
       "      <td>43.0</td>\n",
       "    </tr>\n",
       "  </tbody>\n",
       "</table>\n",
       "</div>"
      ],
      "text/plain": [
       "               Subscribers(millions)\n",
       "Category                            \n",
       "Gaming                          77.0\n",
       "Education                       74.0\n",
       "How-to                          74.0\n",
       "Sports                          69.0\n",
       "Film                            66.0\n",
       "Music                           58.0\n",
       "Entertainment                   57.0\n",
       "News                            48.0\n",
       "Comedy                          43.0"
      ]
     },
     "execution_count": 32,
     "metadata": {},
     "output_type": "execute_result"
    }
   ],
   "source": [
    "CategoryMean = top.groupby('Category')[['Subscribers(millions)']].mean().round().sort_values('Subscribers(millions)', ascending = False)\n",
    "CategoryMean"
   ]
  },
  {
   "cell_type": "code",
   "execution_count": 36,
   "metadata": {},
   "outputs": [
    {
     "data": {
      "image/png": "[encoded data removed]",
      "text/plain": [
       "<Figure size 432x288 with 1 Axes>"
      ]
     },
     "metadata": {
      "needs_background": "light"
     },
     "output_type": "display_data"
    }
   ],
   "source": [
    "CategoryMean.plot(kind = 'bar', ylabel='Subscribers', title='Average of Subcribers per Category');"
   ]
  },
  {
   "cell_type": "code",
   "execution_count": 38,
   "metadata": {},
   "outputs": [
    {
     "data": {
      "image/png": "[encoded data removed]",
      "text/plain": [
       "<Figure size 432x288 with 1 Axes>"
      ]
     },
     "metadata": {
      "needs_background": "light"
     },
     "output_type": "display_data"
    }
   ],
   "source": [
    "top.groupby(['Category']).sum().sort_values('Subscribers(millions)', ascending = True,).plot(kind = 'barh', title='Total Subcribers per Category');"
   ]
  },
  {
   "cell_type": "code",
   "execution_count": 83,
   "metadata": {},
   "outputs": [
    {
     "data": {
      "text/plain": [
       "23"
      ]
     },
     "execution_count": 83,
     "metadata": {},
     "output_type": "execute_result"
    }
   ],
   "source": [
    "filter1 = top[top['Category']=='Music']\n",
    "filter1.value_counts().sum()"
   ]
  },
  {
   "cell_type": "code",
   "execution_count": 93,
   "metadata": {},
   "outputs": [
    {
     "data": {
      "text/html": [
       "<div>\n",
       "<style scoped>\n",
       "    .dataframe tbody tr th:only-of-type {\n",
       "        vertical-align: middle;\n",
       "    }\n",
       "\n",
       "    .dataframe tbody tr th {\n",
       "        vertical-align: top;\n",
       "    }\n",
       "\n",
       "    .dataframe thead th {\n",
       "        text-align: right;\n",
       "    }\n",
       "</style>\n",
       "<table border=\"1\" class=\"dataframe\">\n",
       "  <thead>\n",
       "    <tr style=\"text-align: right;\">\n",
       "      <th></th>\n",
       "      <th>Channel</th>\n",
       "      <th>Subscribers(millions)</th>\n",
       "      <th>Language</th>\n",
       "      <th>Category</th>\n",
       "      <th>Country</th>\n",
       "    </tr>\n",
       "  </thead>\n",
       "  <tbody>\n",
       "    <tr>\n",
       "      <th>0</th>\n",
       "      <td>T-Series</td>\n",
       "      <td>193.0</td>\n",
       "      <td>Hindi</td>\n",
       "      <td>Music</td>\n",
       "      <td>India</td>\n",
       "    </tr>\n",
       "    <tr>\n",
       "      <th>6</th>\n",
       "      <td>Zee Music Company</td>\n",
       "      <td>77.1</td>\n",
       "      <td>Hindi</td>\n",
       "      <td>Music</td>\n",
       "      <td>India</td>\n",
       "    </tr>\n",
       "    <tr>\n",
       "      <th>11</th>\n",
       "      <td>Blackpink</td>\n",
       "      <td>67.0</td>\n",
       "      <td>Korean</td>\n",
       "      <td>Music</td>\n",
       "      <td>South Korea</td>\n",
       "    </tr>\n",
       "    <tr>\n",
       "      <th>12</th>\n",
       "      <td>Justin Bieber</td>\n",
       "      <td>65.3</td>\n",
       "      <td>English</td>\n",
       "      <td>Music</td>\n",
       "      <td>Canada</td>\n",
       "    </tr>\n",
       "    <tr>\n",
       "      <th>13</th>\n",
       "      <td>Canal KondZilla</td>\n",
       "      <td>64.8</td>\n",
       "      <td>Portuguese</td>\n",
       "      <td>Music</td>\n",
       "      <td>Brazil</td>\n",
       "    </tr>\n",
       "    <tr>\n",
       "      <th>14</th>\n",
       "      <td>HYBE LABELS</td>\n",
       "      <td>61.5</td>\n",
       "      <td>Korean</td>\n",
       "      <td>Music</td>\n",
       "      <td>South Korea</td>\n",
       "    </tr>\n",
       "    <tr>\n",
       "      <th>17</th>\n",
       "      <td>BangtanTV</td>\n",
       "      <td>58.4</td>\n",
       "      <td>Korean</td>\n",
       "      <td>Music</td>\n",
       "      <td>South Korea</td>\n",
       "    </tr>\n",
       "    <tr>\n",
       "      <th>20</th>\n",
       "      <td>Shemaroo Filmi Gaane</td>\n",
       "      <td>55.4</td>\n",
       "      <td>Hindi</td>\n",
       "      <td>Music</td>\n",
       "      <td>India</td>\n",
       "    </tr>\n",
       "    <tr>\n",
       "      <th>22</th>\n",
       "      <td>Marshmello</td>\n",
       "      <td>53.9</td>\n",
       "      <td>English</td>\n",
       "      <td>Music</td>\n",
       "      <td>United States</td>\n",
       "    </tr>\n",
       "    <tr>\n",
       "      <th>25</th>\n",
       "      <td>Ariana Grande</td>\n",
       "      <td>49.7</td>\n",
       "      <td>English</td>\n",
       "      <td>Music</td>\n",
       "      <td>United States</td>\n",
       "    </tr>\n",
       "    <tr>\n",
       "      <th>26</th>\n",
       "      <td>EminemMusic</td>\n",
       "      <td>49.0</td>\n",
       "      <td>English</td>\n",
       "      <td>Music</td>\n",
       "      <td>United States</td>\n",
       "    </tr>\n",
       "    <tr>\n",
       "      <th>27</th>\n",
       "      <td>Ed Sheeran</td>\n",
       "      <td>48.9</td>\n",
       "      <td>English</td>\n",
       "      <td>Music</td>\n",
       "      <td>United Kingdom</td>\n",
       "    </tr>\n",
       "    <tr>\n",
       "      <th>28</th>\n",
       "      <td>Wave Music</td>\n",
       "      <td>47.6</td>\n",
       "      <td>Bhojpuri</td>\n",
       "      <td>Music</td>\n",
       "      <td>India</td>\n",
       "    </tr>\n",
       "    <tr>\n",
       "      <th>30</th>\n",
       "      <td>Sony Music India</td>\n",
       "      <td>46.5</td>\n",
       "      <td>Hindi</td>\n",
       "      <td>Music</td>\n",
       "      <td>India</td>\n",
       "    </tr>\n",
       "    <tr>\n",
       "      <th>31</th>\n",
       "      <td>Tips Official</td>\n",
       "      <td>45.8</td>\n",
       "      <td>Hindi</td>\n",
       "      <td>Music</td>\n",
       "      <td>India</td>\n",
       "    </tr>\n",
       "    <tr>\n",
       "      <th>32</th>\n",
       "      <td>LooLoo Kids - Nursery Rhymes and Children's Songs</td>\n",
       "      <td>45.5</td>\n",
       "      <td>English</td>\n",
       "      <td>Music</td>\n",
       "      <td>United States</td>\n",
       "    </tr>\n",
       "    <tr>\n",
       "      <th>33</th>\n",
       "      <td>El Reino Infantil</td>\n",
       "      <td>45.2</td>\n",
       "      <td>Spanish</td>\n",
       "      <td>Music</td>\n",
       "      <td>Argentina</td>\n",
       "    </tr>\n",
       "    <tr>\n",
       "      <th>37</th>\n",
       "      <td>T-Series Bhakti Sagar</td>\n",
       "      <td>43.8</td>\n",
       "      <td>Hindi</td>\n",
       "      <td>Music</td>\n",
       "      <td>India</td>\n",
       "    </tr>\n",
       "    <tr>\n",
       "      <th>38</th>\n",
       "      <td>Taylor Swift</td>\n",
       "      <td>43.5</td>\n",
       "      <td>English</td>\n",
       "      <td>Music</td>\n",
       "      <td>United States</td>\n",
       "    </tr>\n",
       "    <tr>\n",
       "      <th>40</th>\n",
       "      <td>Billie Eilish</td>\n",
       "      <td>43.0</td>\n",
       "      <td>English</td>\n",
       "      <td>Music</td>\n",
       "      <td>United States</td>\n",
       "    </tr>\n",
       "    <tr>\n",
       "      <th>44</th>\n",
       "      <td>YRF</td>\n",
       "      <td>42.0</td>\n",
       "      <td>Hindi</td>\n",
       "      <td>Music</td>\n",
       "      <td>India</td>\n",
       "    </tr>\n",
       "    <tr>\n",
       "      <th>46</th>\n",
       "      <td>Katy Perry</td>\n",
       "      <td>41.5</td>\n",
       "      <td>English</td>\n",
       "      <td>Music</td>\n",
       "      <td>United States</td>\n",
       "    </tr>\n",
       "    <tr>\n",
       "      <th>48</th>\n",
       "      <td>Alan Walker</td>\n",
       "      <td>40.3</td>\n",
       "      <td>English</td>\n",
       "      <td>Music</td>\n",
       "      <td>United Kingdom</td>\n",
       "    </tr>\n",
       "  </tbody>\n",
       "</table>\n",
       "</div>"
      ],
      "text/plain": [
       "                                              Channel  Subscribers(millions)  \\\n",
       "0                                            T-Series                  193.0   \n",
       "6                                   Zee Music Company                   77.1   \n",
       "11                                          Blackpink                   67.0   \n",
       "12                                      Justin Bieber                   65.3   \n",
       "13                                    Canal KondZilla                   64.8   \n",
       "14                                        HYBE LABELS                   61.5   \n",
       "17                                          BangtanTV                   58.4   \n",
       "20                               Shemaroo Filmi Gaane                   55.4   \n",
       "22                                         Marshmello                   53.9   \n",
       "25                                      Ariana Grande                   49.7   \n",
       "26                                        EminemMusic                   49.0   \n",
       "27                                         Ed Sheeran                   48.9   \n",
       "28                                         Wave Music                   47.6   \n",
       "30                                   Sony Music India                   46.5   \n",
       "31                                      Tips Official                   45.8   \n",
       "32  LooLoo Kids - Nursery Rhymes and Children's Songs                   45.5   \n",
       "33                                  El Reino Infantil                   45.2   \n",
       "37                              T-Series Bhakti Sagar                   43.8   \n",
       "38                                       Taylor Swift                   43.5   \n",
       "40                                      Billie Eilish                   43.0   \n",
       "44                                                YRF                   42.0   \n",
       "46                                         Katy Perry                   41.5   \n",
       "48                                        Alan Walker                   40.3   \n",
       "\n",
       "      Language Category          Country  \n",
       "0        Hindi    Music            India  \n",
       "6        Hindi    Music            India  \n",
       "11      Korean    Music      South Korea  \n",
       "12     English    Music           Canada  \n",
       "13  Portuguese    Music           Brazil  \n",
       "14      Korean    Music      South Korea  \n",
       "17      Korean    Music      South Korea  \n",
       "20       Hindi    Music            India  \n",
       "22     English    Music    United States  \n",
       "25     English    Music    United States  \n",
       "26     English    Music    United States  \n",
       "27     English    Music   United Kingdom  \n",
       "28    Bhojpuri    Music            India  \n",
       "30       Hindi    Music            India  \n",
       "31       Hindi    Music            India  \n",
       "32     English    Music    United States  \n",
       "33     Spanish    Music        Argentina  \n",
       "37       Hindi    Music            India  \n",
       "38     English    Music    United States  \n",
       "40     English    Music    United States  \n",
       "44       Hindi    Music            India  \n",
       "46     English    Music    United States  \n",
       "48     English    Music   United Kingdom  "
      ]
     },
     "execution_count": 93,
     "metadata": {},
     "output_type": "execute_result"
    }
   ],
   "source": [
    "filter1"
   ]
  },
  {
   "cell_type": "code",
   "execution_count": 84,
   "metadata": {},
   "outputs": [
    {
     "data": {
      "text/plain": [
       "2"
      ]
     },
     "execution_count": 84,
     "metadata": {},
     "output_type": "execute_result"
    }
   ],
   "source": [
    "filter2 = top[top['Category']=='Gaming']\n",
    "filter2.value_counts().sum()"
   ]
  },
  {
   "cell_type": "code",
   "execution_count": 94,
   "metadata": {
    "scrolled": true
   },
   "outputs": [
    {
     "data": {
      "text/html": [
       "<div>\n",
       "<style scoped>\n",
       "    .dataframe tbody tr th:only-of-type {\n",
       "        vertical-align: middle;\n",
       "    }\n",
       "\n",
       "    .dataframe tbody tr th {\n",
       "        vertical-align: top;\n",
       "    }\n",
       "\n",
       "    .dataframe thead th {\n",
       "        text-align: right;\n",
       "    }\n",
       "</style>\n",
       "<table border=\"1\" class=\"dataframe\">\n",
       "  <thead>\n",
       "    <tr style=\"text-align: right;\">\n",
       "      <th></th>\n",
       "      <th>Channel</th>\n",
       "      <th>Subscribers(millions)</th>\n",
       "      <th>Language</th>\n",
       "      <th>Category</th>\n",
       "      <th>Country</th>\n",
       "    </tr>\n",
       "  </thead>\n",
       "  <tbody>\n",
       "    <tr>\n",
       "      <th>3</th>\n",
       "      <td>PewDiePie</td>\n",
       "      <td>110.0</td>\n",
       "      <td>English</td>\n",
       "      <td>Gaming</td>\n",
       "      <td>Sweden</td>\n",
       "    </tr>\n",
       "    <tr>\n",
       "      <th>39</th>\n",
       "      <td>Fernanfloo</td>\n",
       "      <td>43.1</td>\n",
       "      <td>Spanish</td>\n",
       "      <td>Gaming</td>\n",
       "      <td>El Salvador</td>\n",
       "    </tr>\n",
       "  </tbody>\n",
       "</table>\n",
       "</div>"
      ],
      "text/plain": [
       "       Channel  Subscribers(millions) Language Category       Country\n",
       "3    PewDiePie                  110.0  English   Gaming        Sweden\n",
       "39  Fernanfloo                   43.1  Spanish   Gaming   El Salvador"
      ]
     },
     "execution_count": 94,
     "metadata": {},
     "output_type": "execute_result"
    }
   ],
   "source": [
    "filter2"
   ]
  },
  {
   "cell_type": "code",
   "execution_count": 97,
   "metadata": {},
   "outputs": [
    {
     "data": {
      "text/plain": [
       "3"
      ]
     },
     "execution_count": 97,
     "metadata": {},
     "output_type": "execute_result"
    }
   ],
   "source": [
    "filter3 = top[top['Category']=='Education']\n",
    "filter3.value_counts().sum()"
   ]
  },
  {
   "cell_type": "code",
   "execution_count": 98,
   "metadata": {},
   "outputs": [
    {
     "data": {
      "text/html": [
       "<div>\n",
       "<style scoped>\n",
       "    .dataframe tbody tr th:only-of-type {\n",
       "        vertical-align: middle;\n",
       "    }\n",
       "\n",
       "    .dataframe tbody tr th {\n",
       "        vertical-align: top;\n",
       "    }\n",
       "\n",
       "    .dataframe thead th {\n",
       "        text-align: right;\n",
       "    }\n",
       "</style>\n",
       "<table border=\"1\" class=\"dataframe\">\n",
       "  <thead>\n",
       "    <tr style=\"text-align: right;\">\n",
       "      <th></th>\n",
       "      <th>Channel</th>\n",
       "      <th>Subscribers(millions)</th>\n",
       "      <th>Language</th>\n",
       "      <th>Category</th>\n",
       "      <th>Country</th>\n",
       "    </tr>\n",
       "  </thead>\n",
       "  <tbody>\n",
       "    <tr>\n",
       "      <th>1</th>\n",
       "      <td>Cocomelon - Nursery Rhymes</td>\n",
       "      <td>118.0</td>\n",
       "      <td>English</td>\n",
       "      <td>Education</td>\n",
       "      <td>United States</td>\n",
       "    </tr>\n",
       "    <tr>\n",
       "      <th>23</th>\n",
       "      <td>Pinkfong! Kids' Stories &amp; Songs</td>\n",
       "      <td>52.0</td>\n",
       "      <td>English</td>\n",
       "      <td>Education</td>\n",
       "      <td>South Korea</td>\n",
       "    </tr>\n",
       "    <tr>\n",
       "      <th>24</th>\n",
       "      <td>ChuChu TV Nursery Rhymes &amp; Kids Songs</td>\n",
       "      <td>51.5</td>\n",
       "      <td>Hindi</td>\n",
       "      <td>Education</td>\n",
       "      <td>India</td>\n",
       "    </tr>\n",
       "  </tbody>\n",
       "</table>\n",
       "</div>"
      ],
      "text/plain": [
       "                                  Channel  Subscribers(millions) Language  \\\n",
       "1              Cocomelon - Nursery Rhymes                  118.0  English   \n",
       "23        Pinkfong! Kids' Stories & Songs                   52.0  English   \n",
       "24  ChuChu TV Nursery Rhymes & Kids Songs                   51.5    Hindi   \n",
       "\n",
       "     Category         Country  \n",
       "1   Education   United States  \n",
       "23  Education     South Korea  \n",
       "24  Education           India  "
      ]
     },
     "execution_count": 98,
     "metadata": {},
     "output_type": "execute_result"
    }
   ],
   "source": [
    "filter3"
   ]
  },
  {
   "cell_type": "code",
   "execution_count": 96,
   "metadata": {},
   "outputs": [],
   "source": [
    "#SortedCat = top.sort_values(\"Category\")\n",
    "#SortedCat"
   ]
  },
  {
   "cell_type": "markdown",
   "metadata": {},
   "source": [
    "There are 9 unique categories. Music is the one with most subscriber in total having India and the US as the origin of the most followed accounts, with over 800 million of followers combined. Gaming and Education has in average the most followers per account, however there are a lot less individual channels in this categories than in Music. "
   ]
  },
  {
   "cell_type": "markdown",
   "metadata": {},
   "source": [
    "## Conclusions"
   ]
  },
  {
   "cell_type": "markdown",
   "metadata": {},
   "source": [
    "The 50 most followed accounts in Social Media speak 7 languanges are spoken, have 2.9 Billion Subscribers from around the world, and are separated in 9 categories. \n",
    "\n",
    "The top 3 origin countries of the creators of the accounts are USA, India, and Brazil. \n",
    "\n",
    "The market seems to be dominated by the Music Category, but there could be an opportunity for Categories like Gaming and Education to grow if they aim to grow their channels in India and Spanish speaking countries. "
   ]
  },
  {
   "cell_type": "code",
   "execution_count": null,
   "metadata": {},
   "outputs": [],
   "source": []
  }
 ],
 "metadata": {
  "kernelspec": {
   "display_name": "Python 3",
   "language": "python",
   "name": "python3"
  },
  "language_info": {
   "codemirror_mode": {
    "name": "ipython",
    "version": 3
   },
   "file_extension": ".py",
   "mimetype": "text/x-python",
   "name": "python",
   "nbconvert_exporter": "python",
   "pygments_lexer": "ipython3",
   "version": "3.8.5"
  }
 },
 "nbformat": 4,
 "nbformat_minor": 4
}
